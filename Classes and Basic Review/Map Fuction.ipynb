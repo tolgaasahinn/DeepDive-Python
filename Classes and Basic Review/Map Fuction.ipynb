{
 "cells": [
  {
   "cell_type": "code",
   "execution_count": 2,
   "id": "95782284",
   "metadata": {},
   "outputs": [],
   "source": [
    "def double(x):\n",
    "    return x**2"
   ]
  },
  {
   "cell_type": "code",
   "execution_count": 3,
   "id": "528d6ef4",
   "metadata": {},
   "outputs": [
    {
     "data": {
      "text/plain": [
       "<map at 0x1349972ec50>"
      ]
     },
     "execution_count": 3,
     "metadata": {},
     "output_type": "execute_result"
    }
   ],
   "source": [
    "map(double,[2**10,2**20])"
   ]
  },
  {
   "cell_type": "code",
   "execution_count": 4,
   "id": "644a38f8",
   "metadata": {},
   "outputs": [
    {
     "data": {
      "text/plain": [
       "[1048576, 1099511627776]"
      ]
     },
     "execution_count": 4,
     "metadata": {},
     "output_type": "execute_result"
    }
   ],
   "source": [
    "list(map(double,[2**10,2**20]))"
   ]
  },
  {
   "cell_type": "code",
   "execution_count": 6,
   "id": "65ee68b5",
   "metadata": {},
   "outputs": [
    {
     "data": {
      "text/plain": [
       "[6.0, 7.0, 8.0, 12.0, 13.0]"
      ]
     },
     "execution_count": 6,
     "metadata": {},
     "output_type": "execute_result"
    }
   ],
   "source": [
    "list(map(lambda x : x/2, (12,14,16,24,26)))"
   ]
  },
  {
   "cell_type": "code",
   "execution_count": 7,
   "id": "f1e48298",
   "metadata": {},
   "outputs": [],
   "source": [
    "liste_1 = [1,2,3,4,5,6,7]\n",
    "liste_2 = [2,3,4,5,6,5,6]\n",
    "liste_4 = [9,10,11,12,13,14,15]"
   ]
  },
  {
   "cell_type": "code",
   "execution_count": 9,
   "id": "d0d045cb",
   "metadata": {},
   "outputs": [
    {
     "data": {
      "text/plain": [
       "[2, 6, 12, 20, 30, 30, 42]"
      ]
     },
     "execution_count": 9,
     "metadata": {},
     "output_type": "execute_result"
    }
   ],
   "source": [
    "list(map(lambda x,y : x*y, liste_1,liste_2))"
   ]
  },
  {
   "cell_type": "code",
   "execution_count": 11,
   "id": "e3accd59",
   "metadata": {},
   "outputs": [
    {
     "data": {
      "text/plain": [
       "[18, 60, 132, 240, 390, 420, 630]"
      ]
     },
     "execution_count": 11,
     "metadata": {},
     "output_type": "execute_result"
    }
   ],
   "source": [
    "list(map(lambda x,y,z: x *y*z , liste_1,liste_2,liste_4))"
   ]
  },
  {
   "cell_type": "code",
   "execution_count": null,
   "id": "4e5b7b66",
   "metadata": {},
   "outputs": [],
   "source": []
  },
  {
   "cell_type": "code",
   "execution_count": null,
   "id": "5cea3cf2",
   "metadata": {},
   "outputs": [],
   "source": []
  }
 ],
 "metadata": {
  "kernelspec": {
   "display_name": "Python 3 (ipykernel)",
   "language": "python",
   "name": "python3"
  },
  "language_info": {
   "codemirror_mode": {
    "name": "ipython",
    "version": 3
   },
   "file_extension": ".py",
   "mimetype": "text/x-python",
   "name": "python",
   "nbconvert_exporter": "python",
   "pygments_lexer": "ipython3",
   "version": "3.10.7"
  }
 },
 "nbformat": 4,
 "nbformat_minor": 5
}
