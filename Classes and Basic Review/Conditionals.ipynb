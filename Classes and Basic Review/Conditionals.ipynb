{
 "cells": [
  {
   "cell_type": "code",
   "execution_count": 3,
   "id": "0bf0138c",
   "metadata": {},
   "outputs": [
    {
     "name": "stdout",
     "output_type": "stream",
     "text": [
      "a >= 5\n"
     ]
    }
   ],
   "source": [
    "a = 6\n",
    "if a < 5 :\n",
    "    print('a < 5')\n",
    "else:\n",
    "    print('a >= 5')"
   ]
  },
  {
   "cell_type": "code",
   "execution_count": 5,
   "id": "5a1d3135",
   "metadata": {},
   "outputs": [
    {
     "name": "stdout",
     "output_type": "stream",
     "text": [
      "5 <= a <10\n"
     ]
    }
   ],
   "source": [
    "a = 5\n",
    "if a < 5:\n",
    "    print('a < 5')\n",
    "else:\n",
    "    if a < 10:\n",
    "        print('5 <= a <10')\n",
    "        \n",
    "    else:\n",
    "        print('a >= 10')\n",
    "        "
   ]
  },
  {
   "cell_type": "code",
   "execution_count": null,
   "id": "c14472f6",
   "metadata": {},
   "outputs": [],
   "source": [
    "a = 5\n",
    "if "
   ]
  },
  {
   "cell_type": "code",
   "execution_count": 9,
   "id": "0318fa08",
   "metadata": {},
   "outputs": [],
   "source": [
    "def func(a: int, b: int):\n",
    "    return a * b"
   ]
  },
  {
   "cell_type": "code",
   "execution_count": 10,
   "id": "36195318",
   "metadata": {},
   "outputs": [
    {
     "data": {
      "text/plain": [
       "10"
      ]
     },
     "execution_count": 10,
     "metadata": {},
     "output_type": "execute_result"
    }
   ],
   "source": [
    "func(2, 5)"
   ]
  },
  {
   "cell_type": "code",
   "execution_count": 11,
   "id": "c0b01cb3",
   "metadata": {},
   "outputs": [
    {
     "data": {
      "text/plain": [
       "<function __main__.<lambda>(x)>"
      ]
     },
     "execution_count": 11,
     "metadata": {},
     "output_type": "execute_result"
    }
   ],
   "source": [
    "lambda x : x**2"
   ]
  },
  {
   "cell_type": "code",
   "execution_count": 23,
   "id": "9bbb24ca",
   "metadata": {},
   "outputs": [],
   "source": [
    "def lcs(x, y):\n",
    "    sl = \"\"\n",
    "    for i in y:\n",
    "        for z in x:\n",
    "            if i == z:\n",
    "                if i not in sl:\n",
    "                    sl += i\n",
    "    return sl"
   ]
  },
  {
   "cell_type": "code",
   "execution_count": 24,
   "id": "2d616e52",
   "metadata": {},
   "outputs": [
    {
     "data": {
      "text/plain": [
       "'notaes'"
      ]
     },
     "execution_count": 24,
     "metadata": {},
     "output_type": "execute_result"
    }
   ],
   "source": [
    "lcs(\"anothertest\", \"notatest\")"
   ]
  },
  {
   "cell_type": "code",
   "execution_count": 16,
   "id": "4cbbe07e",
   "metadata": {},
   "outputs": [],
   "source": [
    "def lcs(x, y):\n",
    "    x = set(x)\n",
    "    y = set(y)\n",
    "    print(x)\n",
    "    print(y)\n",
    "    return \"\".join(i for i in x for z in y if i == z )"
   ]
  },
  {
   "cell_type": "code",
   "execution_count": 17,
   "id": "1daf43f7",
   "metadata": {},
   "outputs": [
    {
     "name": "stdout",
     "output_type": "stream",
     "text": [
      "{'e', 'f', 'c', 'a', 'b', 'd'}\n",
      "{'b', 'c', 'a'}\n"
     ]
    },
    {
     "data": {
      "text/plain": [
       "'cab'"
      ]
     },
     "execution_count": 17,
     "metadata": {},
     "output_type": "execute_result"
    }
   ],
   "source": [
    "lcs( \"abcdef\" , \"abc\" )"
   ]
  },
  {
   "cell_type": "code",
   "execution_count": 52,
   "id": "1f8a3f11",
   "metadata": {},
   "outputs": [],
   "source": [
    "def pig_it(text):\n",
    "    new_word = \"\"\n",
    "    text = text.split(\" \")\n",
    "    for item in text:\n",
    "        if item.isalpha():\n",
    "            item = \"\".join(item.strip(f'{item[0]}') + item[0] + 'ay ')\n",
    "            new_word += item\n",
    "    new_word = new_word.rstrip(new_word[-1])\n",
    "    print(new_word)"
   ]
  },
  {
   "cell_type": "code",
   "execution_count": 53,
   "id": "dacaeda4",
   "metadata": {},
   "outputs": [
    {
     "name": "stdout",
     "output_type": "stream",
     "text": [
      "igPay atinlay siay oolcay\n"
     ]
    }
   ],
   "source": [
    "pig_it('Pig latin is cool')"
   ]
  },
  {
   "cell_type": "code",
   "execution_count": null,
   "id": "d4dbd056",
   "metadata": {},
   "outputs": [],
   "source": [
    "try..except...finally"
   ]
  },
  {
   "cell_type": "code",
   "execution_count": 55,
   "id": "c3966867",
   "metadata": {},
   "outputs": [
    {
     "name": "stdout",
     "output_type": "stream",
     "text": [
      "this always executes\n"
     ]
    }
   ],
   "source": [
    "a = 10 \n",
    "b = 1\n",
    "try:\n",
    "    a/b\n",
    "except ZeroDivisionError:\n",
    "    print('division by 0')\n",
    "finally:\n",
    "    print('this always executes')"
   ]
  },
  {
   "cell_type": "code",
   "execution_count": 56,
   "id": "24c2a823",
   "metadata": {},
   "outputs": [
    {
     "name": "stdout",
     "output_type": "stream",
     "text": [
      "0 H\n",
      "1 e\n",
      "2 l\n",
      "3 l\n",
      "4 o\n"
     ]
    }
   ],
   "source": [
    "s = 'Hello'\n",
    "for i in range(len(s)):\n",
    "    print(i,s[i])"
   ]
  },
  {
   "cell_type": "code",
   "execution_count": 57,
   "id": "a48ed21b",
   "metadata": {},
   "outputs": [
    {
     "name": "stdout",
     "output_type": "stream",
     "text": [
      "0 H\n",
      "1 e\n",
      "2 l\n",
      "3 l\n",
      "4 o\n"
     ]
    }
   ],
   "source": [
    "s = 'Hello'\n",
    "for i,c in enumerate(s):\n",
    "    print(i,c)"
   ]
  },
  {
   "cell_type": "code",
   "execution_count": null,
   "id": "e34f50b5",
   "metadata": {},
   "outputs": [],
   "source": []
  },
  {
   "cell_type": "code",
   "execution_count": null,
   "id": "9d1c00c0",
   "metadata": {},
   "outputs": [],
   "source": []
  },
  {
   "cell_type": "code",
   "execution_count": null,
   "id": "219301fc",
   "metadata": {},
   "outputs": [],
   "source": []
  }
 ],
 "metadata": {
  "kernelspec": {
   "display_name": "Python 3 (ipykernel)",
   "language": "python",
   "name": "python3"
  },
  "language_info": {
   "codemirror_mode": {
    "name": "ipython",
    "version": 3
   },
   "file_extension": ".py",
   "mimetype": "text/x-python",
   "name": "python",
   "nbconvert_exporter": "python",
   "pygments_lexer": "ipython3",
   "version": "3.10.7"
  }
 },
 "nbformat": 4,
 "nbformat_minor": 5
}
