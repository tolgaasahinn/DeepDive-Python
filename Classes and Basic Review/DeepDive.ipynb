{
 "cells": [
  {
   "cell_type": "code",
   "execution_count": 108,
   "id": "12af2a76",
   "metadata": {},
   "outputs": [],
   "source": [
    "a = [1,2,3,4]"
   ]
  },
  {
   "cell_type": "code",
   "execution_count": 109,
   "id": "dfe23fff",
   "metadata": {},
   "outputs": [],
   "source": [
    "a  =[1,2,\n",
    "    3,4,5,6]"
   ]
  },
  {
   "cell_type": "code",
   "execution_count": 111,
   "id": "4bf2f94e",
   "metadata": {},
   "outputs": [],
   "source": [
    "a = [1 #item1\n",
    "    ,2]\n"
   ]
  },
  {
   "cell_type": "code",
   "execution_count": 112,
   "id": "4f75ab5c",
   "metadata": {},
   "outputs": [
    {
     "data": {
      "text/plain": [
       "[1, 2]"
      ]
     },
     "execution_count": 112,
     "metadata": {},
     "output_type": "execute_result"
    }
   ],
   "source": [
    "a"
   ]
  },
  {
   "cell_type": "code",
   "execution_count": 114,
   "id": "160ff7dc",
   "metadata": {},
   "outputs": [],
   "source": [
    "a = (1 #Comment\n",
    "    , 2 #comment\n",
    "    ,3)"
   ]
  },
  {
   "cell_type": "code",
   "execution_count": null,
   "id": "d2393260",
   "metadata": {},
   "outputs": [],
   "source": [
    "a = {\n",
    "    'key1':1 #value1\n",
    "    'key2':2 #value2\n",
    "}"
   ]
  },
  {
   "cell_type": "code",
   "execution_count": 2,
   "id": "d6ccd5bb",
   "metadata": {},
   "outputs": [],
   "source": [
    "a = \"\"\"This is a string\"\"\""
   ]
  },
  {
   "cell_type": "code",
   "execution_count": 3,
   "id": "e6466627",
   "metadata": {},
   "outputs": [
    {
     "data": {
      "text/plain": [
       "'This is a string'"
      ]
     },
     "execution_count": 3,
     "metadata": {},
     "output_type": "execute_result"
    }
   ],
   "source": [
    "a"
   ]
  },
  {
   "cell_type": "code",
   "execution_count": 4,
   "id": "1e693284",
   "metadata": {},
   "outputs": [],
   "source": [
    "a = \"\"\"This is \n",
    "a string\"\"\""
   ]
  },
  {
   "cell_type": "code",
   "execution_count": 5,
   "id": "8a7c1b06",
   "metadata": {},
   "outputs": [
    {
     "data": {
      "text/plain": [
       "'This is \\na string'"
      ]
     },
     "execution_count": 5,
     "metadata": {},
     "output_type": "execute_result"
    }
   ],
   "source": [
    "a "
   ]
  },
  {
   "cell_type": "code",
   "execution_count": 3,
   "id": "fbddcf8d",
   "metadata": {},
   "outputs": [],
   "source": [
    "def expanded_form(num):\n",
    "    num = list(str(num))\n",
    "    print(num)\n",
    "    return ' + '.join(x + '0' * (len(num) - y - 1) for y,x in enumerate(num) if x != '0')"
   ]
  },
  {
   "cell_type": "code",
   "execution_count": 4,
   "id": "33f66c01",
   "metadata": {},
   "outputs": [
    {
     "name": "stdout",
     "output_type": "stream",
     "text": [
      "['7', '0', '4', '0', '3']\n"
     ]
    },
    {
     "data": {
      "text/plain": [
       "'70000 + 400 + 3'"
      ]
     },
     "execution_count": 4,
     "metadata": {},
     "output_type": "execute_result"
    }
   ],
   "source": [
    "expanded_form(70403)"
   ]
  },
  {
   "cell_type": "code",
   "execution_count": 66,
   "id": "1582d456",
   "metadata": {},
   "outputs": [],
   "source": [
    "def camel_case(string):\n",
    "    camel_cases=\"\"\n",
    "    for x in string.split(\" \"):\n",
    "        word = \"\"\n",
    "        for letter in range(0,len(x)):\n",
    "            if letter == 0:\n",
    "                word += x[letter].upper()\n",
    "            else:\n",
    "                word+=x[letter]\n",
    "        camel_cases+=word\n",
    "    return camel_cases"
   ]
  },
  {
   "cell_type": "code",
   "execution_count": 67,
   "id": "75b68dff",
   "metadata": {},
   "outputs": [
    {
     "data": {
      "text/plain": [
       "'SayHello'"
      ]
     },
     "execution_count": 67,
     "metadata": {},
     "output_type": "execute_result"
    }
   ],
   "source": [
    "camel_case(\"say hello \")"
   ]
  },
  {
   "cell_type": "code",
   "execution_count": 69,
   "id": "42b862d8",
   "metadata": {},
   "outputs": [],
   "source": [
    "def duplicate_count(text):\n",
    "    empty_dict = dict()\n",
    "    for letter in text.lower():\n",
    "            if letter not in empty_dict.keys():\n",
    "                empty_dict[letter] = 1\n",
    "            else:\n",
    "                empty_dict[letter] += 1\n",
    "    count_of_letter = 0\n",
    "    for value in empty_dict.values():\n",
    "        if value > 1:\n",
    "            count_of_letter += 1\n",
    "    return count_of_letter"
   ]
  },
  {
   "cell_type": "code",
   "execution_count": 74,
   "id": "6e8eadbf",
   "metadata": {},
   "outputs": [
    {
     "data": {
      "text/plain": [
       "2"
      ]
     },
     "execution_count": 74,
     "metadata": {},
     "output_type": "execute_result"
    }
   ],
   "source": [
    "duplicate_count(\"Indivisibilities\")"
   ]
  },
  {
   "cell_type": "code",
   "execution_count": 98,
   "id": "6fb22ce3",
   "metadata": {},
   "outputs": [],
   "source": [
    "def find_missing(sequence):\n",
    "    quantity = ((sequence[-1]-sequence[0])/len(sequence))\n",
    "    f_item = sequence[0]\n",
    "    for item in range(0,len(sequence)):\n",
    "        if f_item not in sequence:\n",
    "            break\n",
    "        f_item += quantity\n",
    "    return f_item"
   ]
  },
  {
   "cell_type": "code",
   "execution_count": 101,
   "id": "2d9537a9",
   "metadata": {},
   "outputs": [
    {
     "data": {
      "text/plain": [
       "176.0"
      ]
     },
     "execution_count": 101,
     "metadata": {},
     "output_type": "execute_result"
    }
   ],
   "source": [
    "find_missing([296, 293, 290, 287, 284, 281, 278, 275, 272, 269, 266, 263, 260, 257, 254, 251, 248, 245, 242, 239, 236, 233, 230, 227, 224, 221, 218, 215, 212, 209, 206, 203, 200, 197, 194, 191, 188, 185, 182, 179, 173, 170, 167, 164, 161, 158, 155, 152, 149, 146, 143, 140, 137, 134, 131, 128, 125, 122, 119, 116, 113, 110, 107, 104, 101, 98, 95, 92, 89, 86, 83, 80, 77, 74, 71, 68, 65, 62, 59, 56, 53, 50, 47, 44, 41, 38, 35, 32, 29, 26, 23, 20, 17, 14, 11, 8, 5, 2, -1])"
   ]
  },
  {
   "cell_type": "code",
   "execution_count": 1,
   "id": "3712e80c",
   "metadata": {},
   "outputs": [],
   "source": [
    "def validPhoneNumber(phoneNumber):\n",
    "    number = ''\n",
    "    template = '(xxx) xxx-xxxx'\n",
    "    for l in phoneNumber:\n",
    "        if l.isdigit():\n",
    "            number += 'x'\n",
    "        else:\n",
    "            number += l\n",
    "    return number == template"
   ]
  },
  {
   "cell_type": "code",
   "execution_count": 7,
   "id": "633567e5",
   "metadata": {},
   "outputs": [
    {
     "data": {
      "text/plain": [
       "True"
      ]
     },
     "execution_count": 7,
     "metadata": {},
     "output_type": "execute_result"
    }
   ],
   "source": [
    "validPhoneNumber(\"(333) 185-0594\")"
   ]
  },
  {
   "cell_type": "code",
   "execution_count": 17,
   "id": "1f298129",
   "metadata": {},
   "outputs": [],
   "source": [
    "letter_dict={\n",
    "    'a':'1',\n",
    "    'e':'2',\n",
    "    'i':'3',\n",
    "    'o':'4',\n",
    "    'u':'5',\n",
    "}\n",
    "\n",
    "\n",
    "def encode(st):\n",
    "        \n",
    "    return \"\".join( i for i in st if i in letter_dict.keys())"
   ]
  },
  {
   "cell_type": "code",
   "execution_count": 18,
   "id": "84ad6bfd",
   "metadata": {},
   "outputs": [
    {
     "data": {
      "text/plain": [
       "'eo'"
      ]
     },
     "execution_count": 18,
     "metadata": {},
     "output_type": "execute_result"
    }
   ],
   "source": [
    "encode(\"hello\")"
   ]
  },
  {
   "cell_type": "code",
   "execution_count": 21,
   "id": "8c67167b",
   "metadata": {},
   "outputs": [],
   "source": [
    "def increment_string(strng):\n",
    "    digits = \"0\"\n",
    "    for i in strng:\n",
    "        if i.isdigit():\n",
    "            digits += i\n",
    "    strng = strng.strip(digits)\n",
    "    \n",
    "    digits = int(digits) + 1\n",
    "    return strng + str(digits)\n"
   ]
  },
  {
   "cell_type": "code",
   "execution_count": 24,
   "id": "faefcb6b",
   "metadata": {},
   "outputs": [
    {
     "data": {
      "text/plain": [
       "'foo43'"
      ]
     },
     "execution_count": 24,
     "metadata": {},
     "output_type": "execute_result"
    }
   ],
   "source": [
    "increment_string(\"foo0042\")"
   ]
  },
  {
   "cell_type": "code",
   "execution_count": 25,
   "id": "7b943167",
   "metadata": {},
   "outputs": [],
   "source": [
    "def last_digit(n1, n2):\n",
    "    last_number = n1 ** n2\n",
    "    return last_number"
   ]
  },
  {
   "cell_type": "code",
   "execution_count": 6,
   "id": "ce19112b",
   "metadata": {},
   "outputs": [],
   "source": [
    "def array_diff(a, b):\n",
    "    list_of_diff = list()\n",
    "    for i in a :\n",
    "        if i not in b:\n",
    "            list_of_diff.append(i)\n",
    "    return list_of_diff"
   ]
  },
  {
   "cell_type": "code",
   "execution_count": 7,
   "id": "9f6b861d",
   "metadata": {},
   "outputs": [
    {
     "data": {
      "text/plain": [
       "[1, 3]"
      ]
     },
     "execution_count": 7,
     "metadata": {},
     "output_type": "execute_result"
    }
   ],
   "source": [
    "array_diff([1,2,2,2,3],[2])"
   ]
  },
  {
   "cell_type": "code",
   "execution_count": 9,
   "id": "44f523a6",
   "metadata": {},
   "outputs": [],
   "source": [
    "def first_non_repeating_letter(string):\n",
    "    empty_dict = dict()\n",
    "    for letter in string:\n",
    "            if letter not in empty_dict.keys():\n",
    "                empty_dict[letter] = 1\n",
    "            else:\n",
    "                empty_dict[letter] += 1\n",
    "\n",
    "    for key, value in empty_dict.items():\n",
    "        if value == 1:\n",
    "            return key.upper()"
   ]
  },
  {
   "cell_type": "code",
   "execution_count": 10,
   "id": "f2709373",
   "metadata": {},
   "outputs": [
    {
     "data": {
      "text/plain": [
       "'S'"
      ]
     },
     "execution_count": 10,
     "metadata": {},
     "output_type": "execute_result"
    }
   ],
   "source": [
    "first_non_repeating_letter(\"sTreSS\")"
   ]
  },
  {
   "cell_type": "code",
   "execution_count": 6,
   "id": "a9c5a237",
   "metadata": {},
   "outputs": [],
   "source": [
    "def find_uniq(arr):\n",
    "    s = set(arr)\n",
    "    for e in s:\n",
    "        if arr.count(e) == 1:\n",
    "            return e"
   ]
  },
  {
   "cell_type": "code",
   "execution_count": 2,
   "id": "00e1d8c2",
   "metadata": {},
   "outputs": [],
   "source": [
    "def find_uniq(arr):\n",
    "    a, b = set(arr)\n",
    "    return a if arr.count(a) == 1 else b"
   ]
  },
  {
   "cell_type": "code",
   "execution_count": 7,
   "id": "5518cabe",
   "metadata": {},
   "outputs": [
    {
     "name": "stdout",
     "output_type": "stream",
     "text": [
      "{1, 2}\n",
      "1\n",
      "2\n"
     ]
    },
    {
     "data": {
      "text/plain": [
       "2"
      ]
     },
     "execution_count": 7,
     "metadata": {},
     "output_type": "execute_result"
    }
   ],
   "source": [
    "find_uniq([ 1, 1, 1, 2, 1, 1 ])"
   ]
  },
  {
   "cell_type": "code",
   "execution_count": 17,
   "id": "d9190009",
   "metadata": {},
   "outputs": [],
   "source": [
    "def unique_in_order(iterable):\n",
    "    l = \"\"\n",
    "    empty_list = []\n",
    "    for letter in iterable:\n",
    "        if letter != l :\n",
    "            empty_list.append(letter)\n",
    "        l = letter\n",
    "    return empty_list"
   ]
  },
  {
   "cell_type": "code",
   "execution_count": 18,
   "id": "dea00e36",
   "metadata": {},
   "outputs": [
    {
     "data": {
      "text/plain": [
       "['A', 'B', 'C', 'D', 'A', 'B']"
      ]
     },
     "execution_count": 18,
     "metadata": {},
     "output_type": "execute_result"
    }
   ],
   "source": [
    "unique_in_order('AAAABBBCCDAABBB')"
   ]
  },
  {
   "cell_type": "code",
   "execution_count": 21,
   "id": "2c4201aa",
   "metadata": {},
   "outputs": [],
   "source": [
    "cake_ingredients = {\"flour\": 500, \"sugar\": 200, \"eggs\": 1}"
   ]
  },
  {
   "cell_type": "code",
   "execution_count": 27,
   "id": "23a6d2db",
   "metadata": {},
   "outputs": [],
   "source": [
    "available = {\"flour\": 1200, \"sugar\": 1200, \"eggs\": 5,}"
   ]
  },
  {
   "cell_type": "code",
   "execution_count": 45,
   "id": "0e6f4b18",
   "metadata": {},
   "outputs": [],
   "source": [
    "def cakes(recipe, available):\n",
    "    empty_dict = dict()\n",
    "    if cake_ingre\n",
    "    for k,v  in cake_ingredients.items() :\n",
    "        if available[k] < v or :\n",
    "            return 0\n",
    "        item = available[k] // v\n",
    "        empty_dict[k] = item\n",
    "\n",
    "    return min(empty_dict.values())"
   ]
  },
  {
   "cell_type": "code",
   "execution_count": 47,
   "id": "f25f397d",
   "metadata": {},
   "outputs": [],
   "source": [
    "def cakes(recipe, available):\n",
    "    try:\n",
    "        return min([available[a]/recipe[a] for a in recipe])\n",
    "    except:\n",
    "        return 0"
   ]
  },
  {
   "cell_type": "code",
   "execution_count": null,
   "id": "ca8a34f1",
   "metadata": {},
   "outputs": [],
   "source": [
    "_my_var = pass\n",
    "single underscore this is a convention to indicate \"Internal use\" or private objects"
   ]
  },
  {
   "cell_type": "code",
   "execution_count": null,
   "id": "064be036",
   "metadata": {},
   "outputs": [],
   "source": [
    "__my_var =  pass\n",
    "double underscore used to \"Mangle\" class attributes- uses in inheritance chains"
   ]
  },
  {
   "cell_type": "code",
   "execution_count": null,
   "id": "739ccfb0",
   "metadata": {},
   "outputs": [],
   "source": [
    "__my_var__ = pass\n",
    " used for system-defined names that have the interpreter.\n",
    "    dont invent thenm, stickto ones pre-defined by python!\n",
    "    __init__\n",
    "    x<y ---> x.__lt__(y)"
   ]
  },
  {
   "cell_type": "code",
   "execution_count": null,
   "id": "130f62c7",
   "metadata": {},
   "outputs": [],
   "source": []
  }
 ],
 "metadata": {
  "kernelspec": {
   "display_name": "Python 3 (ipykernel)",
   "language": "python",
   "name": "python3"
  },
  "language_info": {
   "codemirror_mode": {
    "name": "ipython",
    "version": 3
   },
   "file_extension": ".py",
   "mimetype": "text/x-python",
   "name": "python",
   "nbconvert_exporter": "python",
   "pygments_lexer": "ipython3",
   "version": "3.10.7"
  }
 },
 "nbformat": 4,
 "nbformat_minor": 5
}
